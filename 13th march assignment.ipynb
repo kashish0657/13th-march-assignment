{
 "cells": [
  {
   "cell_type": "markdown",
   "id": "a890a248-7cad-4865-b452-e44045ad4376",
   "metadata": {},
   "source": [
    "## 13th march assignment"
   ]
  },
  {
   "cell_type": "markdown",
   "id": "a8076959-dfba-4429-8e6b-cd7ae5de26f2",
   "metadata": {},
   "source": [
    "## 1:ans:-"
   ]
  },
  {
   "cell_type": "code",
   "execution_count": null,
   "id": "33230fea-60b5-4961-adb0-c3e85dc9b579",
   "metadata": {},
   "outputs": [],
   "source": [
    "ANOVA (Analysis of Variance) is a statistical method used to compare the means of three or more groups to \n",
    "determine if there are significant differences among them. To use ANOVA, certain assumptions must be met for\n",
    "the results to be valid. These assumptions include:\n",
    "\n",
    "Independence: The observations within each group are independent of each other. In other words, the values\n",
    "within one group should not be influenced by or related to the values in another group.\n",
    "\n",
    "Normality: The distribution of the dependent variable (the variable being measured) should follow a normal\n",
    "distribution within each group. This assumption is important because ANOVA relies on the normality assumption\n",
    "to make accurate inferences about population parameters.\n",
    "\n",
    "Homogeneity of variance: The variance of the dependent variable should be approximately equal across all groups.\n",
    "Homogeneity of variance ensures that the groups being compared have similar levels of variability.\n",
    "\n",
    "Homogeneity of regression slopes (if using ANCOVA): If ANCOVA (Analysis of Covariance) is used, which involves \n",
    "adding one or more covariates to the analysis, the relationship between the covariate(s) and the dependent variable \n",
    "should be consistent across all groups. This assumption ensures that the effect of the covariate(s) is similar for all groups.\n",
    "\n",
    "Violations of these assumptions can impact the validity of the ANOVA results. Some examples of violations and their \n",
    "impacts are:\n",
    "\n",
    "Violation of independence: If observations within groups are not independent, such as when there are repeated measures \n",
    "or clustered data, the assumption is violated. This can lead to inflated or deflated significance levels and unreliable\n",
    "estimates of the treatment effects.\n",
    "\n"
   ]
  },
  {
   "cell_type": "markdown",
   "id": "9dadeb7b-d0b7-4e58-9182-da81458df42f",
   "metadata": {},
   "source": [
    "## 2:ans:-"
   ]
  },
  {
   "cell_type": "code",
   "execution_count": null,
   "id": "5849dba1-25a6-4be3-bcc8-49d0eb10932d",
   "metadata": {},
   "outputs": [],
   "source": [
    "Analysis of Variance (ANOVA) is a statistical technique used to compare the means of two or more groups to determine\n",
    "if there are significant differences among them. There are three main types of ANOVA:\n",
    "\n",
    "One-Way ANOVA:\n",
    "One-Way ANOVA is used when there is a single independent variable (factor) with three or more levels/groups.\n",
    "It is employed to examine whether there are significant differences in the means of the dependent variable across\n",
    "the different groups. For example, if you want to compare the average test scores of students from three different\n",
    "schools, you can use One-Way ANOVA to determine if there are significant differences in the scores among the schools.\n",
    "\n",
    "Two-Way ANOVA:\n",
    "Two-Way ANOVA is used when there are two independent variables (factors) and the interaction between them.\n",
    "Each factor has two or more levels/groups. It allows you to examine the main effects of each factor as well \n",
    "as their interaction effect on the dependent variable. For instance, if you want to investigate the effects\n",
    "of both gender and treatment type on the recovery time of patients, you can use Two-Way ANOVA to analyze the\n",
    "data and determine if there are significant differences among the groups based on these factors.\n",
    "\n",
    "Repeated Measures ANOVA:\n",
    "Repeated Measures ANOVA is used when you have a single group of participants and you measure the same variable\n",
    "multiple times under different conditions or time points. It is useful for studying within-subject changes over\n",
    "time or across conditions. For example, if you are conducting a study on the effectiveness of a new teaching\n",
    "method and you measure the test scores of students before the method is implemented, immediately after, and one\n",
    "month later, you can use Repeated Measures ANOVA to examine if there are significant differences in the scores\n",
    "across the time points.\n",
    "\n"
   ]
  },
  {
   "cell_type": "markdown",
   "id": "3af148ee-63b3-4f6f-a2fd-ac71498bcbb1",
   "metadata": {},
   "source": [
    "## 3:ans:-"
   ]
  },
  {
   "cell_type": "code",
   "execution_count": 1,
   "id": "66f367fa-a185-4a44-87ff-21f8525de880",
   "metadata": {},
   "outputs": [
    {
     "name": "stdout",
     "output_type": "stream",
     "text": [
      "F-value: 0.22671356584296698\n",
      "Degrees of freedom: (99, 99)\n",
      "P-value: 8.102773377858552e-13\n"
     ]
    }
   ],
   "source": [
    "import numpy as np\n",
    "from scipy.stats import f\n",
    "\n",
    "def f_test(sample1, sample2, var1, var2):\n",
    "    n1 = len(sample1)\n",
    "    n2 = len(sample2)\n",
    "    \n",
    "    dof1 = n1 - 1\n",
    "    dof2 = n2 - 1\n",
    "    \n",
    "    f_value = np.var(sample1) / np.var(sample2)\n",
    "    \n",
    "    p_value = f.cdf(f_value, dof1, dof2)\n",
    "    p_value = min(p_value, 1 - p_value)  # Two-tailed test\n",
    "    \n",
    "    return f_value, (dof1, dof2), p_value\n",
    "\n",
    "# Generate random samples from two normal distributions\n",
    "np.random.seed(42)  # For reproducibility\n",
    "\n",
    "sample1 = np.random.normal(0, 1, size=100)\n",
    "sample2 = np.random.normal(0, 2, size=100)\n",
    "\n",
    "# Known variances\n",
    "var1 = 1\n",
    "var2 = 4\n",
    "\n",
    "# Perform the F-test\n",
    "f_value, degrees_of_freedom, p_value = f_test(sample1, sample2, var1, var2)\n",
    "\n",
    "# Print the results\n",
    "print(\"F-value:\", f_value)\n",
    "print(\"Degrees of freedom:\", degrees_of_freedom)\n",
    "print(\"P-value:\", p_value)\n"
   ]
  },
  {
   "cell_type": "markdown",
   "id": "85a515f4-b2c9-4c5d-9be3-aee4ea8c22c4",
   "metadata": {},
   "source": [
    "## 4:ans:-"
   ]
  },
  {
   "cell_type": "code",
   "execution_count": 3,
   "id": "1d4adb70-ce06-49ab-9876-61bfdbf054a8",
   "metadata": {},
   "outputs": [
    {
     "name": "stdout",
     "output_type": "stream",
     "text": [
      "SST: 230.0\n",
      "SSE: 140.0\n",
      "SSR: 90.00000000000003\n"
     ]
    }
   ],
   "source": [
    "import pandas as pd\n",
    "import numpy as np\n",
    "import statsmodels.api as sm\n",
    "from statsmodels.formula.api import ols\n",
    "\n",
    "# Example data\n",
    "group1 = [1, 2, 3, 4, 5]\n",
    "group2 = [2, 4, 6, 8, 10]\n",
    "group3 = [3, 6, 9, 12, 15]\n",
    "\n",
    "# Combine the data\n",
    "data = np.concatenate([group1, group2, group3])\n",
    "\n",
    "# Create the group labels\n",
    "labels = ['Group 1'] * len(group1) + ['Group 2'] * len(group2) + ['Group 3'] * len(group3)\n",
    "\n",
    "# Create a dataframe\n",
    "df = pd.DataFrame({'Data': data, 'Group': labels})\n",
    "\n",
    "# Perform one-way ANOVA\n",
    "model = ols('Data ~ C(Group)', data=df).fit()\n",
    "anova_table = sm.stats.anova_lm(model, typ=2)\n",
    "\n",
    "# Calculate SST, SSE, and SSR\n",
    "SST = np.sum((df['Data'] - np.mean(df['Data']))**2)\n",
    "SSE = np.sum(model.resid**2)\n",
    "SSR = np.sum((model.fittedvalues - np.mean(df['Data']))**2)\n",
    "\n",
    "print(\"SST:\", SST)\n",
    "print(\"SSE:\", SSE)\n",
    "print(\"SSR:\", SSR)\n"
   ]
  },
  {
   "cell_type": "markdown",
   "id": "b6dbb795-8383-4fa5-a1cd-91734ba8f6d6",
   "metadata": {},
   "source": [
    "## 5:ans:-"
   ]
  },
  {
   "cell_type": "code",
   "execution_count": 4,
   "id": "91d8aa10-a5cf-4622-b00c-f4c04e81d072",
   "metadata": {},
   "outputs": [
    {
     "name": "stdout",
     "output_type": "stream",
     "text": [
      "Main Effect A: 64.00000000000009\n",
      "Main Effect B: 6.000000000000015\n",
      "Interaction Effect: 1.5974433330725486e-29\n"
     ]
    }
   ],
   "source": [
    "import statsmodels.api as sm\n",
    "from statsmodels.formula.api import ols\n",
    "\n",
    "# Create a dataframe with your data\n",
    "data = {'A': [1, 1, 2, 2, 3, 3],\n",
    "        'B': [1, 2, 1, 2, 1, 2],\n",
    "        'Y': [2, 4, 6, 8, 10, 12]}\n",
    "df = pd.DataFrame(data)\n",
    "\n",
    "# Fit the two-way ANOVA model\n",
    "model = ols('Y ~ A + B + A:B', data=df).fit()\n",
    "anova_table = sm.stats.anova_lm(model, typ=2)\n",
    "\n",
    "# Extract the main effects and interaction effects\n",
    "main_effect_A = anova_table['sum_sq']['A']\n",
    "main_effect_B = anova_table['sum_sq']['B']\n",
    "interaction_effect = anova_table['sum_sq']['A:B']\n",
    "\n",
    "print(\"Main Effect A:\", main_effect_A)\n",
    "print(\"Main Effect B:\", main_effect_B)\n",
    "print(\"Interaction Effect:\", interaction_effect)\n"
   ]
  },
  {
   "cell_type": "markdown",
   "id": "6133e4b9-e7cc-4cdf-9f19-4a45a7fb1855",
   "metadata": {},
   "source": [
    "## 6:ans:-"
   ]
  },
  {
   "cell_type": "code",
   "execution_count": null,
   "id": "9614b729-979b-493e-a2cd-23bada03fdd4",
   "metadata": {},
   "outputs": [],
   "source": [
    "Based on the one-way ANOVA results you provided, with an F-statistic of 5.23 and a p-value of 0.02,\n",
    "we can draw the following conclusions:\n",
    "\n",
    "Differences between the groups: The obtained F-statistic of 5.23 indicates that there are significant \n",
    "differences between the groups in the study. In other words, at least one of the groups is statistically\n",
    "different from the others.\n",
    "\n",
    "Interpretation of the results: The p-value of 0.02 suggests that the probability of observing such extreme\n",
    "differences between the groups by chance alone is 0.02 (or 2%). In conventional statistical practice, \n",
    "if the p-value is below a predetermined significance level (e.g., 0.05), it is considered statistically \n",
    "significant. Therefore, with a p-value of 0.02, we can conclude that there is a statistically significant\n",
    "difference between the groups.\n",
    "\n",
    "Post-hoc tests: After observing a significant result in the ANOVA, it is common to conduct post-hoc tests\n",
    "to determine which specific groups differ from each other. Post-hoc tests, such as Tukey's Honestly Significant\n",
    "Difference (HSD) test or the Bonferroni correction, can help identify pairwise differences between groups.\n"
   ]
  },
  {
   "cell_type": "markdown",
   "id": "52e21ad8-e916-429b-8f9b-76a39defc297",
   "metadata": {},
   "source": [
    "## 7:ans:-"
   ]
  },
  {
   "cell_type": "code",
   "execution_count": null,
   "id": "111cd628-99e2-415d-b4ca-24e42acdbbdd",
   "metadata": {},
   "outputs": [],
   "source": [
    "In a repeated measures ANOVA, missing data can pose challenges because the analysis requires complete data\n",
    "for all participants at all time points. There are several methods to handle missing data in this context,\n",
    "each with its own potential consequences. Here are a few common approaches:\n",
    "\n",
    "Complete Case Analysis (Listwise deletion): This method involves excluding participants with missing data \n",
    "from the analysis. It only uses cases with complete data, leading to a reduction in sample size. This approach\n",
    "can introduce bias if the missingness is related to the variables being analyzed, potentially impacting the\n",
    "representativeness of the results.\n",
    "\n",
    "Pairwise Deletion: With this approach, participants with missing data on specific variables are excluded only \n",
    "from the analyses involving those variables. It uses all available data, but can lead to biased results if the\n",
    "missingness is not random. The estimation of standard errors and statistical power may also be affected.\n",
    "\n",
    "Mean Imputation: This method replaces missing values with the mean of the available data for the respective\n",
    "variable. It assumes that the missing data are missing completely at random (MCAR) and can lead to biased\n",
    "estimates if the missingness is related to the outcome variable or other covariates.\n",
    "\n",
    "Last Observation Carried Forward (LOCF): This approach carries forward the last observed value for missing\n",
    "data points. It assumes that missing data points remain constant over time. However, LOCF can introduce bias\n",
    "if the assumption is violated or if there is substantial change in the missing values.\n",
    "\n",
    "Multiple Imputation: This technique involves creating multiple plausible imputations for the missing data based\n",
    "on statistical models. The imputed datasets are then analyzed separately, and the results are combined using\n",
    "specific rules. Multiple imputation accounts for uncertainty due to missing data and produces unbiased estimates\n",
    "when certain assumptions are met. However, it can be computationally intensive and requires careful implementation.\n",
    "\n",
    "The choice of method to handle missing data should be based on the assumptions about the missingness mechanism\n",
    "and the potential consequences of each method. It is important to consider the potential bias, loss of power,\n",
    "and generalizability of the results associated with each approach. Furthermore, sensitivity analyses can be conducted\n",
    "to examine the robustness of the findings under different missing data assumptions and handling methods.\n",
    "\n",
    "\n"
   ]
  },
  {
   "cell_type": "markdown",
   "id": "4c1bf47e-6595-4109-96dc-08227bce3310",
   "metadata": {},
   "source": [
    "## 8:ans:-"
   ]
  },
  {
   "cell_type": "code",
   "execution_count": null,
   "id": "d4c3cd75-ece1-4008-a54c-91212beaaa48",
   "metadata": {},
   "outputs": [],
   "source": [
    "After conducting an Analysis of Variance (ANOVA) and obtaining a significant result, post-hoc tests are often\n",
    "used to determine which specific groups differ from each other. Some common post-hoc tests used after ANOVA include:\n",
    "\n",
    "Tukey's Honestly Significant Difference (HSD): This test is commonly used when the number of groups is equal\n",
    "and sample sizes are equal or unequal. It controls the family-wise error rate and compares all possible pairs of means.\n",
    "\n",
    "Bonferroni correction: This test adjusts the significance level for each comparison to maintain an overall\n",
    "family-wise error rate. It is more conservative than Tukey's HSD and is often used when conducting multiple\n",
    "pairwise comparisons.\n",
    "\n",
    "Scheffé's test: This test is used when the number of groups is unequal, and it controls the family-wise error\n",
    "rate for all possible comparisons. It is more conservative than Tukey's HSD and is suitable for situations where\n",
    "there is no specific hypothesis about pairwise comparisons.\n",
    "\n",
    "Dunnett's test: This test is used when comparing multiple treatment groups against a control group. It adjusts for \n",
    "multiple comparisons while maintaining the overall error rate.\n",
    "\n",
    "Fisher's Least Significant Difference (LSD): This test is used when the number of groups is unequal and sample\n",
    "sizes are unequal. It compares all possible pairs of means, but it does not control the family-wise error rate as \n",
    "strictly as Tukey's HSD.\n",
    "\n",
    "Games-Howell test: This test is used when the assumptions of equal variances and/or sample sizes are violated.\n",
    "It adjusts for unequal variances and performs pairwise comparisons with a modified t-test.\n",
    "\n",
    "An example situation where a post-hoc test might be necessary is in a study examining the effectiveness of different\n",
    "treatments for a medical condition. Suppose researchers conducted an ANOVA with four treatment groups (A, B, C, and D)\n",
    "and found a significant overall difference. To determine which specific treatments differ from each other, they would\n",
    "conduct post-hoc tests. They could use Tukey's HSD, which would allow them to compare all possible pairs of means and\n",
    "identify which treatments are significantly different from each other. This would provide valuable information for \n",
    "clinicians in choosing the most effective treatment option.\n"
   ]
  },
  {
   "cell_type": "markdown",
   "id": "9c5443a2-bf70-4bf4-bb6e-e470262a4238",
   "metadata": {},
   "source": [
    "## 9:ans:-"
   ]
  },
  {
   "cell_type": "code",
   "execution_count": 5,
   "id": "a259922d-18e0-464d-9f15-84df777fdfe7",
   "metadata": {},
   "outputs": [
    {
     "ename": "TypeError",
     "evalue": "float() argument must be a string or a real number, not 'ellipsis'",
     "output_type": "error",
     "traceback": [
      "\u001b[0;31m---------------------------------------------------------------------------\u001b[0m",
      "\u001b[0;31mTypeError\u001b[0m                                 Traceback (most recent call last)",
      "Cell \u001b[0;32mIn[5], line 9\u001b[0m\n\u001b[1;32m      6\u001b[0m diet_c \u001b[38;5;241m=\u001b[39m [\u001b[38;5;241m1.9\u001b[39m, \u001b[38;5;241m1.5\u001b[39m, \u001b[38;5;241m2.8\u001b[39m, \u001b[38;5;241m2.4\u001b[39m, \u001b[38;5;241m.\u001b[39m\u001b[38;5;241m.\u001b[39m\u001b[38;5;241m.\u001b[39m]  \u001b[38;5;66;03m# Replace with actual data for Diet C\u001b[39;00m\n\u001b[1;32m      8\u001b[0m \u001b[38;5;66;03m# Perform one-way ANOVA\u001b[39;00m\n\u001b[0;32m----> 9\u001b[0m f_statistic, p_value \u001b[38;5;241m=\u001b[39m \u001b[43mstats\u001b[49m\u001b[38;5;241;43m.\u001b[39;49m\u001b[43mf_oneway\u001b[49m\u001b[43m(\u001b[49m\u001b[43mdiet_a\u001b[49m\u001b[43m,\u001b[49m\u001b[43m \u001b[49m\u001b[43mdiet_b\u001b[49m\u001b[43m,\u001b[49m\u001b[43m \u001b[49m\u001b[43mdiet_c\u001b[49m\u001b[43m)\u001b[49m\n\u001b[1;32m     11\u001b[0m \u001b[38;5;66;03m# Print the results\u001b[39;00m\n\u001b[1;32m     12\u001b[0m \u001b[38;5;28mprint\u001b[39m(\u001b[38;5;124m\"\u001b[39m\u001b[38;5;124mF-Statistic:\u001b[39m\u001b[38;5;124m\"\u001b[39m, f_statistic)\n",
      "File \u001b[0;32m/opt/conda/lib/python3.10/site-packages/scipy/stats/_stats_py.py:3857\u001b[0m, in \u001b[0;36mf_oneway\u001b[0;34m(axis, *samples)\u001b[0m\n\u001b[1;32m   3853\u001b[0m \u001b[38;5;28;01mif\u001b[39;00m \u001b[38;5;28mlen\u001b[39m(samples) \u001b[38;5;241m<\u001b[39m \u001b[38;5;241m2\u001b[39m:\n\u001b[1;32m   3854\u001b[0m     \u001b[38;5;28;01mraise\u001b[39;00m \u001b[38;5;167;01mTypeError\u001b[39;00m(\u001b[38;5;124m'\u001b[39m\u001b[38;5;124mat least two inputs are required;\u001b[39m\u001b[38;5;124m'\u001b[39m\n\u001b[1;32m   3855\u001b[0m                     \u001b[38;5;124mf\u001b[39m\u001b[38;5;124m'\u001b[39m\u001b[38;5;124m got \u001b[39m\u001b[38;5;132;01m{\u001b[39;00m\u001b[38;5;28mlen\u001b[39m(samples)\u001b[38;5;132;01m}\u001b[39;00m\u001b[38;5;124m.\u001b[39m\u001b[38;5;124m'\u001b[39m)\n\u001b[0;32m-> 3857\u001b[0m samples \u001b[38;5;241m=\u001b[39m [np\u001b[38;5;241m.\u001b[39masarray(sample, dtype\u001b[38;5;241m=\u001b[39m\u001b[38;5;28mfloat\u001b[39m) \u001b[38;5;28;01mfor\u001b[39;00m sample \u001b[38;5;129;01min\u001b[39;00m samples]\n\u001b[1;32m   3859\u001b[0m \u001b[38;5;66;03m# ANOVA on N groups, each in its own array\u001b[39;00m\n\u001b[1;32m   3860\u001b[0m num_groups \u001b[38;5;241m=\u001b[39m \u001b[38;5;28mlen\u001b[39m(samples)\n",
      "File \u001b[0;32m/opt/conda/lib/python3.10/site-packages/scipy/stats/_stats_py.py:3857\u001b[0m, in \u001b[0;36m<listcomp>\u001b[0;34m(.0)\u001b[0m\n\u001b[1;32m   3853\u001b[0m \u001b[38;5;28;01mif\u001b[39;00m \u001b[38;5;28mlen\u001b[39m(samples) \u001b[38;5;241m<\u001b[39m \u001b[38;5;241m2\u001b[39m:\n\u001b[1;32m   3854\u001b[0m     \u001b[38;5;28;01mraise\u001b[39;00m \u001b[38;5;167;01mTypeError\u001b[39;00m(\u001b[38;5;124m'\u001b[39m\u001b[38;5;124mat least two inputs are required;\u001b[39m\u001b[38;5;124m'\u001b[39m\n\u001b[1;32m   3855\u001b[0m                     \u001b[38;5;124mf\u001b[39m\u001b[38;5;124m'\u001b[39m\u001b[38;5;124m got \u001b[39m\u001b[38;5;132;01m{\u001b[39;00m\u001b[38;5;28mlen\u001b[39m(samples)\u001b[38;5;132;01m}\u001b[39;00m\u001b[38;5;124m.\u001b[39m\u001b[38;5;124m'\u001b[39m)\n\u001b[0;32m-> 3857\u001b[0m samples \u001b[38;5;241m=\u001b[39m [\u001b[43mnp\u001b[49m\u001b[38;5;241;43m.\u001b[39;49m\u001b[43masarray\u001b[49m\u001b[43m(\u001b[49m\u001b[43msample\u001b[49m\u001b[43m,\u001b[49m\u001b[43m \u001b[49m\u001b[43mdtype\u001b[49m\u001b[38;5;241;43m=\u001b[39;49m\u001b[38;5;28;43mfloat\u001b[39;49m\u001b[43m)\u001b[49m \u001b[38;5;28;01mfor\u001b[39;00m sample \u001b[38;5;129;01min\u001b[39;00m samples]\n\u001b[1;32m   3859\u001b[0m \u001b[38;5;66;03m# ANOVA on N groups, each in its own array\u001b[39;00m\n\u001b[1;32m   3860\u001b[0m num_groups \u001b[38;5;241m=\u001b[39m \u001b[38;5;28mlen\u001b[39m(samples)\n",
      "\u001b[0;31mTypeError\u001b[0m: float() argument must be a string or a real number, not 'ellipsis'"
     ]
    }
   ],
   "source": [
    "import scipy.stats as stats\n",
    "\n",
    "# Define the weight loss data for each diet\n",
    "diet_a = [2.5, 3.1, 1.8, 2.9, ...]  # Replace with actual data for Diet A\n",
    "diet_b = [1.7, 2.2, 2.5, 2.1, ...]  # Replace with actual data for Diet B\n",
    "diet_c = [1.9, 1.5, 2.8, 2.4, ...]  # Replace with actual data for Diet C\n",
    "\n",
    "# Perform one-way ANOVA\n",
    "f_statistic, p_value = stats.f_oneway(diet_a, diet_b, diet_c)\n",
    "\n",
    "# Print the results\n",
    "print(\"F-Statistic:\", f_statistic)\n",
    "print(\"p-value:\", p_value)\n"
   ]
  },
  {
   "cell_type": "code",
   "execution_count": null,
   "id": "65399e26-b301-44e4-b31b-a0e4a958faa3",
   "metadata": {},
   "outputs": [],
   "source": []
  }
 ],
 "metadata": {
  "kernelspec": {
   "display_name": "Python 3 (ipykernel)",
   "language": "python",
   "name": "python3"
  },
  "language_info": {
   "codemirror_mode": {
    "name": "ipython",
    "version": 3
   },
   "file_extension": ".py",
   "mimetype": "text/x-python",
   "name": "python",
   "nbconvert_exporter": "python",
   "pygments_lexer": "ipython3",
   "version": "3.10.8"
  }
 },
 "nbformat": 4,
 "nbformat_minor": 5
}
